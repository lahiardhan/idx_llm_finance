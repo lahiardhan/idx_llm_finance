{
  "nbformat": 4,
  "nbformat_minor": 0,
  "metadata": {
    "colab": {
      "provenance": []
    },
    "kernelspec": {
      "name": "python3",
      "display_name": "Python 3"
    },
    "language_info": {
      "name": "python"
    }
  },
  "cells": [
    {
      "cell_type": "code",
      "source": [
        "!pip install langchain\n",
        "!pip install langchain-groq\n",
        "\n",
        "import os\n",
        "import json\n",
        "import requests\n",
        "from langchain_core.tools import tool\n",
        "from langchain_core.prompts import ChatPromptTemplate, MessagesPlaceholder\n",
        "from langchain_groq import ChatGroq\n",
        "from langchain.agents import create_tool_calling_agent, AgentExecutor"
      ],
      "metadata": {
        "collapsed": true,
        "id": "i_SdqPeOZkH1"
      },
      "execution_count": null,
      "outputs": []
    },
    {
      "cell_type": "code",
      "execution_count": null,
      "metadata": {
        "id": "l8hnoAwIU7s9"
      },
      "outputs": [],
      "source": [
        "from google.colab import userdata\n",
        "\n",
        "SECTORS_API_KEY = userdata.get('SECTORS_API_KEY')\n",
        "GROQ_API_KEY = userdata.get('GROQ_API_KEY')"
      ]
    },
    {
      "cell_type": "markdown",
      "source": [
        "# Function"
      ],
      "metadata": {
        "id": "vuLUMdjXaa-P"
      }
    },
    {
      "cell_type": "code",
      "source": [
        "from langchain_core.tools import tool\n",
        "\n",
        "def retrieve_from_endpoint(url: str) -> dict:\n",
        "    headers = {\"Authorization\": SECTORS_API_KEY}\n",
        "\n",
        "    try:\n",
        "        response = requests.get(url, headers=headers)\n",
        "        response.raise_for_status()\n",
        "        data = response.json()\n",
        "    except requests.exceptions.HTTPError as err:\n",
        "        raise SystemExit(err)\n",
        "    return json.dumps(data)\n",
        "\n",
        "def get_today_date() -> str:\n",
        "    \"\"\"\n",
        "    Get today's date\n",
        "    \"\"\"\n",
        "    from datetime import date\n",
        "\n",
        "    today = date.today()\n",
        "    return today.strftime(\"%Y-%m-%d\")"
      ],
      "metadata": {
        "id": "vB4AL8uogxcn"
      },
      "execution_count": null,
      "outputs": []
    },
    {
      "cell_type": "markdown",
      "source": [
        "## Tool"
      ],
      "metadata": {
        "id": "eSSGbpW9ljRQ"
      }
    },
    {
      "cell_type": "code",
      "source": [
        "@tool\n",
        "def get_top_companies_by_tx_volume(\n",
        "    start_date: str, end_date: str, top_n: int = 5\n",
        ") -> str:\n",
        "    \"\"\"\n",
        "    Get top companies by transaction volume\n",
        "    \"\"\"\n",
        "    url = f\"https://api.sectors.app/v1/most-traded/?start={start_date}&end={end_date}&n_stock={top_n}\"\n",
        "\n",
        "    return retrieve_from_endpoint(url)\n",
        "\n",
        "@tool\n",
        "def get_company_overview(stock: str) -> str:\n",
        "    \"\"\"\n",
        "    Get the overview of a stock, including email, address, phone number, market cap information, listing date etc\n",
        "    \"\"\"\n",
        "    url = f\"https://api.sectors.app/v1/company/report/{stock}/?sections=overview\"\n",
        "    print(url)\n",
        "\n",
        "    return retrieve_from_endpoint(url)\n",
        "\n",
        "\n",
        "@tool\n",
        "def get_daily_tx(stock: str, start_date: str, end_date: str) -> str:\n",
        "    \"\"\"\n",
        "    Get daily transaction for a stock\n",
        "    \"\"\"\n",
        "    url = f\"https://api.sectors.app/v1/daily/{stock}/?start={start_date}&end={end_date}\"\n",
        "    print(url)\n",
        "\n",
        "    return retrieve_from_endpoint(url)\n",
        "\n",
        "\n",
        "@tool\n",
        "def get_performance_since_ipo(stock: str) -> str:\n",
        "  \"\"\"\n",
        "  Get stock performance after IPO listing\n",
        "  \"\"\"\n",
        "  url = f\"https://api.sectors.app/v1/listing-performance/{stock}/\"\n",
        "  print(url)\n",
        "\n",
        "  return retrieve_from_endpoint(url)"
      ],
      "metadata": {
        "id": "bVxSJXb9lbix"
      },
      "execution_count": null,
      "outputs": []
    },
    {
      "cell_type": "markdown",
      "source": [
        "# Pipeline"
      ],
      "metadata": {
        "id": "Ih2yJHQyWZkg"
      }
    },
    {
      "cell_type": "code",
      "source": [
        "tools = [\n",
        "    get_company_overview,\n",
        "    get_top_companies_by_tx_volume,\n",
        "    get_daily_tx,\n",
        "    get_performance_since_ipo\n",
        "]\n",
        "\n",
        "llm = ChatGroq(\n",
        "    temperature=0,\n",
        "    model_name=\"llama3-groq-70b-8192-tool-use-preview\",\n",
        "    groq_api_key=GROQ_API_KEY,\n",
        ")\n",
        "\n",
        "prompt = ChatPromptTemplate.from_messages(\n",
        "    [\n",
        "        (\n",
        "            \"system\",\n",
        "            f\"\"\"\n",
        "            You are the financial robo-advisor, answer the following queries like a Financial Agent,\n",
        "            being as factual and analytical as possible. Do not make up stuff.\n",
        "            Try to cite your number as much as possible. Retrieve and show the corresponding data first\n",
        "            such as the market cap number or data that correspond to the question before you make conclusion and show the answer.\n",
        "            Your get_daily_tx tool will need the start and end dates, and if you need the start and end dates\n",
        "            and they are not explicitly provided, please infer from the query.\n",
        "            If the volume was about a single day (such as specific single date or yesterday),\n",
        "            the start date and end date parameter should be the same date. Start and end date will be in the format YYYY-MM-DD.\n",
        "            Whenever you return a list of names, return also the corresponding values for each name.\n",
        "\n",
        "            For most of your queries such as company performance since the date of its initial public offering (IPO),\n",
        "            these information should be available in your get_performance_since_ipo tool,\n",
        "            but the listing performance data is accessible only for stocks listed after May 2005.\n",
        "            Note that the endpoint for performance since IPO has only one required parameter, which is the stock.\n",
        "            Every time you return the symbol of the stock, result also the number in question in a nice tabular format.\n",
        "\n",
        "            Today's date is {get_today_date()}.\n",
        "            \"\"\"\n",
        "        ),\n",
        "        (\"human\", \"{input}\"),\n",
        "        # msg containing previous agent tool invocations and corresponding tool outputs\n",
        "        MessagesPlaceholder(\"agent_scratchpad\"),\n",
        "    ]\n",
        ")\n",
        "\n",
        "agent = create_tool_calling_agent(llm, tools, prompt)\n",
        "agent_executor = AgentExecutor(agent=agent, tools=tools, verbose=True)"
      ],
      "metadata": {
        "id": "r_yWFoXtzKiv"
      },
      "execution_count": null,
      "outputs": []
    },
    {
      "cell_type": "markdown",
      "source": [
        "# Streamlit"
      ],
      "metadata": {
        "id": "vOHZFSbfouTN"
      }
    },
    {
      "cell_type": "code",
      "source": [],
      "metadata": {
        "id": "tTRLbWzfovRN"
      },
      "execution_count": null,
      "outputs": []
    }
  ]
}